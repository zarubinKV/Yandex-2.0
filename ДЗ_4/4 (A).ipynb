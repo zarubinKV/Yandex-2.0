{
 "cells": [
  {
   "cell_type": "code",
   "execution_count": null,
   "id": "b4f78b1e",
   "metadata": {},
   "outputs": [],
   "source": [
    "sl = dict()\n",
    "def add(colour, amount):\n",
    "    if colour in sl.keys():\n",
    "        sl[colour] += amount\n",
    "    else:\n",
    "        sl[colour] = amount\n",
    "\n",
    "n = int(input())\n",
    "for i in range(n):\n",
    "    colour, amount = map(int, input().split())\n",
    "    add(colour, amount)\n",
    "for i in sorted(sl.keys()):\n",
    "    print(i, end=' ')\n",
    "    print(sl[i])"
   ]
  }
 ],
 "metadata": {
  "kernelspec": {
   "display_name": "Python 3 (ipykernel)",
   "language": "python",
   "name": "python3"
  },
  "language_info": {
   "codemirror_mode": {
    "name": "ipython",
    "version": 3
   },
   "file_extension": ".py",
   "mimetype": "text/x-python",
   "name": "python",
   "nbconvert_exporter": "python",
   "pygments_lexer": "ipython3",
   "version": "3.9.1"
  }
 },
 "nbformat": 4,
 "nbformat_minor": 5
}
