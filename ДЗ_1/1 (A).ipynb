{
 "cells": [
  {
   "cell_type": "code",
   "execution_count": null,
   "id": "b4f78b1e",
   "metadata": {},
   "outputs": [],
   "source": [
    "end = int(input())\n",
    "inter = int(input())\n",
    "check = int(input())\n",
    "if inter == 0:\n",
    "    if end != 0:\n",
    "        print(3)\n",
    "    else:\n",
    "        print(check)\n",
    "elif inter == 1:\n",
    "    print(check)\n",
    "elif inter == 4:\n",
    "    if end != 0:\n",
    "        print(3)\n",
    "    else:\n",
    "        print(4)\n",
    "elif inter == 6:\n",
    "    print(0)\n",
    "elif inter == 7:\n",
    "    print(1)\n",
    "else:\n",
    "    print(inter)"
   ]
  }
 ],
 "metadata": {
  "kernelspec": {
   "display_name": "Python 3 (ipykernel)",
   "language": "python",
   "name": "python3"
  },
  "language_info": {
   "codemirror_mode": {
    "name": "ipython",
    "version": 3
   },
   "file_extension": ".py",
   "mimetype": "text/x-python",
   "name": "python",
   "nbconvert_exporter": "python",
   "pygments_lexer": "ipython3",
   "version": "3.9.1"
  }
 },
 "nbformat": 4,
 "nbformat_minor": 5
}
