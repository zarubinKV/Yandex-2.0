{
 "cells": [
  {
   "cell_type": "code",
   "execution_count": null,
   "id": "b4f78b1e",
   "metadata": {},
   "outputs": [],
   "source": [
    "data = input()\n",
    "amount_pol = 0\n",
    "if len(data) % 2 == 0:\n",
    "    for i in range(len(data) // 2):\n",
    "        if data[len(data) // 2 - 1 - i] == data[len(data) // 2 + i]:\n",
    "            amount_pol += 1\n",
    "    tug = len(data) // 2 - amount_pol\n",
    "else:\n",
    "    for i in range(len(data) // 2):\n",
    "        if data[len(data) // 2 - 1 - i] == data[len(data) // 2 + 1 + i]:\n",
    "            amount_pol += 1\n",
    "    tug = len(data) // 2 - amount_pol\n",
    "print(tug)"
   ]
  }
 ],
 "metadata": {
  "kernelspec": {
   "display_name": "Python 3 (ipykernel)",
   "language": "python",
   "name": "python3"
  },
  "language_info": {
   "codemirror_mode": {
    "name": "ipython",
    "version": 3
   },
   "file_extension": ".py",
   "mimetype": "text/x-python",
   "name": "python",
   "nbconvert_exporter": "python",
   "pygments_lexer": "ipython3",
   "version": "3.9.1"
  }
 },
 "nbformat": 4,
 "nbformat_minor": 5
}
