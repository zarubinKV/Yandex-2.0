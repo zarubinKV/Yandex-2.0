{
 "cells": [
  {
   "cell_type": "code",
   "execution_count": null,
   "id": "b4f78b1e",
   "metadata": {},
   "outputs": [],
   "source": [
    "n, i, j = map(int, input().split())\n",
    "print(min(max(j, i) - min(j, i) - 1, n - max(i, j) + min(i, j) - 1))"
   ]
  }
 ],
 "metadata": {
  "kernelspec": {
   "display_name": "Python 3 (ipykernel)",
   "language": "python",
   "name": "python3"
  },
  "language_info": {
   "codemirror_mode": {
    "name": "ipython",
    "version": 3
   },
   "file_extension": ".py",
   "mimetype": "text/x-python",
   "name": "python",
   "nbconvert_exporter": "python",
   "pygments_lexer": "ipython3",
   "version": "3.9.1"
  }
 },
 "nbformat": 4,
 "nbformat_minor": 5
}
