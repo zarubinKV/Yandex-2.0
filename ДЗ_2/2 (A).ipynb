{
 "cells": [
  {
   "cell_type": "code",
   "execution_count": null,
   "id": "b4f78b1e",
   "metadata": {},
   "outputs": [],
   "source": [
    "data = 1\n",
    "max_data = 0\n",
    "count = 0\n",
    "while data != 0:\n",
    "    data = int(input())\n",
    "    if data > max_data:\n",
    "        max_data = data\n",
    "        count = 1\n",
    "    elif data == max_data:\n",
    "        count += 1\n",
    "print(count) "
   ]
  }
 ],
 "metadata": {
  "kernelspec": {
   "display_name": "Python 3 (ipykernel)",
   "language": "python",
   "name": "python3"
  },
  "language_info": {
   "codemirror_mode": {
    "name": "ipython",
    "version": 3
   },
   "file_extension": ".py",
   "mimetype": "text/x-python",
   "name": "python",
   "nbconvert_exporter": "python",
   "pygments_lexer": "ipython3",
   "version": "3.9.1"
  }
 },
 "nbformat": 4,
 "nbformat_minor": 5
}
