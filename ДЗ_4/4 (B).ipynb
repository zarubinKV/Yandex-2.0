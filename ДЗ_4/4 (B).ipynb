{
 "cells": [
  {
   "cell_type": "code",
   "execution_count": null,
   "id": "b4f78b1e",
   "metadata": {},
   "outputs": [],
   "source": [
    "data = dict()\n",
    "def add(name, voices):\n",
    "    if name in data.keys():\n",
    "        data[name] += int(voices)\n",
    "    else:\n",
    "        data[name] = int(voices)\n",
    "    \n",
    "file = open('input.txt', 'r')\n",
    "file_str = [line.split() for line in file.readlines()]\n",
    "for read in file_str:\n",
    "    add(read[0], read[1])\n",
    "for i in sorted(data.keys()):\n",
    "    print(i, end=' ')\n",
    "    print(data[i])"
   ]
  }
 ],
 "metadata": {
  "kernelspec": {
   "display_name": "Python 3 (ipykernel)",
   "language": "python",
   "name": "python3"
  },
  "language_info": {
   "codemirror_mode": {
    "name": "ipython",
    "version": 3
   },
   "file_extension": ".py",
   "mimetype": "text/x-python",
   "name": "python",
   "nbconvert_exporter": "python",
   "pygments_lexer": "ipython3",
   "version": "3.9.1"
  }
 },
 "nbformat": 4,
 "nbformat_minor": 5
}
