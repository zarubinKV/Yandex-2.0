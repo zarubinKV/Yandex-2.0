{
 "cells": [
  {
   "cell_type": "code",
   "execution_count": null,
   "id": "b4f78b1e",
   "metadata": {},
   "outputs": [],
   "source": [
    "l, k = map(int, input().split())\n",
    "result = []\n",
    "data = [int(count) for count in input().split()]\n",
    "if l % 2 != 0 and l // 2 in data:\n",
    "    result.append(l // 2)\n",
    "else:\n",
    "    for i in range(len(data)):\n",
    "        if data[i] >= l / 2:\n",
    "            result.append(data[i - 1])\n",
    "            result.append(data[i])\n",
    "            break\n",
    "for i in result:\n",
    "    print(i, end=' ')"
   ]
  }
 ],
 "metadata": {
  "kernelspec": {
   "display_name": "Python 3 (ipykernel)",
   "language": "python",
   "name": "python3"
  },
  "language_info": {
   "codemirror_mode": {
    "name": "ipython",
    "version": 3
   },
   "file_extension": ".py",
   "mimetype": "text/x-python",
   "name": "python",
   "nbconvert_exporter": "python",
   "pygments_lexer": "ipython3",
   "version": "3.9.1"
  }
 },
 "nbformat": 4,
 "nbformat_minor": 5
}
