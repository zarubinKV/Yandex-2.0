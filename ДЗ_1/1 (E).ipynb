{
 "cells": [
  {
   "cell_type": "code",
   "execution_count": null,
   "id": "b4f78b1e",
   "metadata": {},
   "outputs": [],
   "source": [
    "d = int(input())\n",
    "x, y = map(int, input().split())\n",
    "if x >= 0 and y >= 0 and y + x <= d:\n",
    "    print(0)\n",
    "else:\n",
    "    A = (x ** 2 + y ** 2) ** 0.5\n",
    "    B = (abs(x - d) ** 2 + y ** 2) ** 0.5\n",
    "    C = (x ** 2 + abs(y - d) ** 2) ** 0.5\n",
    "    if A <= B and A <= C:\n",
    "        print(1)\n",
    "    elif B <= C:\n",
    "        print(2)\n",
    "    else:\n",
    "        print(3)"
   ]
  }
 ],
 "metadata": {
  "kernelspec": {
   "display_name": "Python 3 (ipykernel)",
   "language": "python",
   "name": "python3"
  },
  "language_info": {
   "codemirror_mode": {
    "name": "ipython",
    "version": 3
   },
   "file_extension": ".py",
   "mimetype": "text/x-python",
   "name": "python",
   "nbconvert_exporter": "python",
   "pygments_lexer": "ipython3",
   "version": "3.9.1"
  }
 },
 "nbformat": 4,
 "nbformat_minor": 5
}
