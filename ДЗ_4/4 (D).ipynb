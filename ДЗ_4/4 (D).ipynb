{
 "cells": [
  {
   "cell_type": "code",
   "execution_count": null,
   "id": "b4f78b1e",
   "metadata": {},
   "outputs": [],
   "source": [
    "all_voice = [0]\n",
    "def add(data, name, voices):\n",
    "    if name in data.keys():\n",
    "        data[name] += voices\n",
    "    else:\n",
    "        data[name] = voices\n",
    "    all_voice[0] += voices\n",
    "    \n",
    "data = dict()\n",
    "file = open('input.txt', 'r')\n",
    "file_str = [line.split() for line in file.readlines()]\n",
    "for read in file_str:\n",
    "    name = ''\n",
    "    for i in range(len(read) - 1):\n",
    "        name += read[i] + ' '\n",
    "    voices = int(read[-1])\n",
    "    add(data, name, voices)\n",
    "f_choice = all_voice[0] / 450\n",
    "ost = 450\n",
    "drob = []\n",
    "for name in data.keys():\n",
    "    drob.append((name, data[name] / f_choice % 1, data[name]))\n",
    "    data[name] = int(data[name] // f_choice)\n",
    "    ost -= data[name]\n",
    "drob = sorted(drob, key=lambda x: (-x[1], -x[2]))\n",
    "for i in range(ost):\n",
    "    data[drob[i][0]] += 1\n",
    "for word in data.keys():\n",
    "    print(word[:-1], data[word])"
   ]
  }
 ],
 "metadata": {
  "kernelspec": {
   "display_name": "Python 3 (ipykernel)",
   "language": "python",
   "name": "python3"
  },
  "language_info": {
   "codemirror_mode": {
    "name": "ipython",
    "version": 3
   },
   "file_extension": ".py",
   "mimetype": "text/x-python",
   "name": "python",
   "nbconvert_exporter": "python",
   "pygments_lexer": "ipython3",
   "version": "3.9.1"
  }
 },
 "nbformat": 4,
 "nbformat_minor": 5
}
