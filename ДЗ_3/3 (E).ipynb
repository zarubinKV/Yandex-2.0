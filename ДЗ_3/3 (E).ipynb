{
 "cells": [
  {
   "cell_type": "code",
   "execution_count": null,
   "id": "b4f78b1e",
   "metadata": {},
   "outputs": [],
   "source": [
    "def check(people, car):\n",
    "    for count in people:\n",
    "        if count not in car:\n",
    "            return False\n",
    "    return True\n",
    "\n",
    "m = int(input())\n",
    "data_people = [0] * m\n",
    "for i in range(m):\n",
    "    data_people[i] = set([simb for simb in input()])\n",
    "n = int(input())\n",
    "data_car = [0] * n\n",
    "car_count = [0] * n\n",
    "data_car_set = [0] * n\n",
    "for i in range(n):\n",
    "    data_car[i] = input()\n",
    "    data_car_set[i] = set([simb for simb in data_car[i]])\n",
    "    for people in data_people:\n",
    "        if check(people, data_car_set[i]):\n",
    "            car_count[i] += 1\n",
    "for i in range(n):\n",
    "    if car_count[i] == max(car_count):\n",
    "        print(data_car[i])"
   ]
  }
 ],
 "metadata": {
  "kernelspec": {
   "display_name": "Python 3 (ipykernel)",
   "language": "python",
   "name": "python3"
  },
  "language_info": {
   "codemirror_mode": {
    "name": "ipython",
    "version": 3
   },
   "file_extension": ".py",
   "mimetype": "text/x-python",
   "name": "python",
   "nbconvert_exporter": "python",
   "pygments_lexer": "ipython3",
   "version": "3.9.1"
  }
 },
 "nbformat": 4,
 "nbformat_minor": 5
}
