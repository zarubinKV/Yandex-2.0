{
 "cells": [
  {
   "cell_type": "code",
   "execution_count": null,
   "id": "b4f78b1e",
   "metadata": {},
   "outputs": [],
   "source": [
    "data = dict()\n",
    "def add(words):\n",
    "    for i in range(len(words)):\n",
    "        if words[i] in data.keys():\n",
    "            data[words[i]] += 1\n",
    "        else:\n",
    "            data[words[i]] = 1\n",
    "\n",
    "file = open('input.txt', 'r')\n",
    "file_str = [line.split() for line in file.readlines()]\n",
    "for words in file_str:\n",
    "    add(words)\n",
    "ans = []\n",
    "for word in data:\n",
    "    ans.append((data[word], word))\n",
    "ans = sorted(ans, key=lambda x: (-x[0], x[1]))\n",
    "for word in ans:\n",
    "    print(word[1])"
   ]
  }
 ],
 "metadata": {
  "kernelspec": {
   "display_name": "Python 3 (ipykernel)",
   "language": "python",
   "name": "python3"
  },
  "language_info": {
   "codemirror_mode": {
    "name": "ipython",
    "version": 3
   },
   "file_extension": ".py",
   "mimetype": "text/x-python",
   "name": "python",
   "nbconvert_exporter": "python",
   "pygments_lexer": "ipython3",
   "version": "3.9.1"
  }
 },
 "nbformat": 4,
 "nbformat_minor": 5
}
