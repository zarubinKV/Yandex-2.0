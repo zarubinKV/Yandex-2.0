{
 "cells": [
  {
   "cell_type": "code",
   "execution_count": null,
   "id": "b4f78b1e",
   "metadata": {},
   "outputs": [],
   "source": [
    "set_no = set()     \n",
    "k = int(input())\n",
    "set_yes = set([i for i in range(1, k + 1)]) \n",
    "data = ''\n",
    "while True:\n",
    "    data = input()\n",
    "    if data == 'HELP':\n",
    "        break\n",
    "    else:\n",
    "        array = [int(count) for count in data.split()]\n",
    "        ans = input()\n",
    "        if ans == 'YES':\n",
    "            set_yes &= set(array)\n",
    "        else:\n",
    "            set_no |= set(array)\n",
    "print(' '.join(map(str, set_yes.difference(set_no))))"
   ]
  }
 ],
 "metadata": {
  "kernelspec": {
   "display_name": "Python 3 (ipykernel)",
   "language": "python",
   "name": "python3"
  },
  "language_info": {
   "codemirror_mode": {
    "name": "ipython",
    "version": 3
   },
   "file_extension": ".py",
   "mimetype": "text/x-python",
   "name": "python",
   "nbconvert_exporter": "python",
   "pygments_lexer": "ipython3",
   "version": "3.9.1"
  }
 },
 "nbformat": 4,
 "nbformat_minor": 5
}
