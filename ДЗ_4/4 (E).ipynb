{
 "cells": [
  {
   "cell_type": "code",
   "execution_count": null,
   "id": "b4f78b1e",
   "metadata": {},
   "outputs": [],
   "source": [
    "data = dict()\n",
    "topic_count = dict()\n",
    "def read_mes(nomber):\n",
    "    code = int(input())\n",
    "    if code == 0:\n",
    "        topic = input()\n",
    "        input()\n",
    "        data[nomber + 1] = topic\n",
    "        topic_count[topic] = 0\n",
    "    else:\n",
    "        data[nomber + 1] = code\n",
    "        input()\n",
    "        \n",
    "def find_topic(nomber):\n",
    "    mes = data[nomber]\n",
    "    while type(mes) == int:\n",
    "        find_topic(mes)\n",
    "        return\n",
    "    topic_count[mes] += 1\n",
    "    return\n",
    "\n",
    "n = int(input())\n",
    "for i in range(n):\n",
    "    read_mes(i)\n",
    "for i in range(n, 0, -1):\n",
    "    find_topic(i)\n",
    "max_count = max([topic_count[n] for n in topic_count])\n",
    "ans = []\n",
    "for i in topic_count:\n",
    "    if topic_count[i] == max_count:\n",
    "        ans.append(i)\n",
    "if len(ans) == 1:\n",
    "    print(ans[0])\n",
    "else:\n",
    "    for znach in data:\n",
    "        if data[znach] in ans:\n",
    "            print(data[znach])\n",
    "            break"
   ]
  }
 ],
 "metadata": {
  "kernelspec": {
   "display_name": "Python 3 (ipykernel)",
   "language": "python",
   "name": "python3"
  },
  "language_info": {
   "codemirror_mode": {
    "name": "ipython",
    "version": 3
   },
   "file_extension": ".py",
   "mimetype": "text/x-python",
   "name": "python",
   "nbconvert_exporter": "python",
   "pygments_lexer": "ipython3",
   "version": "3.9.1"
  }
 },
 "nbformat": 4,
 "nbformat_minor": 5
}
