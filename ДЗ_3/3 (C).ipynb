{
 "cells": [
  {
   "cell_type": "code",
   "execution_count": null,
   "id": "b4f78b1e",
   "metadata": {},
   "outputs": [],
   "source": [
    "set_data = set()\n",
    "set_data_repeat = set()\n",
    "data = [int(count) for count in input().split()]\n",
    "for count in data:\n",
    "    if count in set_data:\n",
    "        set_data_repeat.add(count)\n",
    "    else:\n",
    "        set_data.add(count)\n",
    "print(' '.join(map(str, sorted(set_data.difference(set_data_repeat), key=data.index))))"
   ]
  }
 ],
 "metadata": {
  "kernelspec": {
   "display_name": "Python 3 (ipykernel)",
   "language": "python",
   "name": "python3"
  },
  "language_info": {
   "codemirror_mode": {
    "name": "ipython",
    "version": 3
   },
   "file_extension": ".py",
   "mimetype": "text/x-python",
   "name": "python",
   "nbconvert_exporter": "python",
   "pygments_lexer": "ipython3",
   "version": "3.9.1"
  }
 },
 "nbformat": 4,
 "nbformat_minor": 5
}
