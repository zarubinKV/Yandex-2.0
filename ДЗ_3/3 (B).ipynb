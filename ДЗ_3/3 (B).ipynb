{
 "cells": [
  {
   "cell_type": "code",
   "execution_count": null,
   "id": "b4f78b1e",
   "metadata": {},
   "outputs": [],
   "source": [
    "data = input().split()\n",
    "for i in range(len(data)):\n",
    "    data[i] = int(data[i])\n",
    "set_data = [[] for _ in range(len(data))] \n",
    "for count in data:\n",
    "    if count in set_data[count % 10]:\n",
    "        print('YES')\n",
    "    else:\n",
    "        print('NO')\n",
    "        set_data[count % 10].append(count)"
   ]
  }
 ],
 "metadata": {
  "kernelspec": {
   "display_name": "Python 3 (ipykernel)",
   "language": "python",
   "name": "python3"
  },
  "language_info": {
   "codemirror_mode": {
    "name": "ipython",
    "version": 3
   },
   "file_extension": ".py",
   "mimetype": "text/x-python",
   "name": "python",
   "nbconvert_exporter": "python",
   "pygments_lexer": "ipython3",
   "version": "3.9.1"
  }
 },
 "nbformat": 4,
 "nbformat_minor": 5
}
